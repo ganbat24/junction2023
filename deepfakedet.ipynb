{
  "nbformat": 4,
  "nbformat_minor": 0,
  "metadata": {
    "colab": {
      "provenance": [],
      "gpuType": "T4"
    },
    "kernelspec": {
      "name": "python3",
      "display_name": "Python 3"
    },
    "language_info": {
      "name": "python"
    },
    "accelerator": "GPU"
  },
  "cells": [
    {
      "cell_type": "code",
      "execution_count": 1,
      "metadata": {
        "colab": {
          "base_uri": "https://localhost:8080/"
        },
        "id": "Bq45FDR_d2lX",
        "outputId": "69052425-554e-475d-bebf-6b01ae96a642"
      },
      "outputs": [
        {
          "output_type": "stream",
          "name": "stdout",
          "text": [
            "Cloning into 'dfdc_deepfake_challenge'...\n",
            "remote: Enumerating objects: 90, done.\u001b[K\n",
            "remote: Counting objects: 100% (23/23), done.\u001b[K\n",
            "remote: Compressing objects: 100% (17/17), done.\u001b[K\n",
            "remote: Total 90 (delta 9), reused 6 (delta 6), pack-reused 67\u001b[K\n",
            "Receiving objects: 100% (90/90), 69.16 MiB | 12.77 MiB/s, done.\n",
            "Resolving deltas: 100% (26/26), done.\n"
          ]
        }
      ],
      "source": [
        "!git clone https://github.com/selimsef/dfdc_deepfake_challenge.git"
      ]
    },
    {
      "cell_type": "code",
      "source": [
        "%cd dfdc_deepfake_challenge/\n",
        "!wget -O weights/final_111_DeepFakeClassifier_tf_efficientnet_b7_ns_0_36 https://github.com/selimsef/dfdc_deepfake_challenge/releases/download/0.0.1/final_111_DeepFakeClassifier_tf_efficientnet_b7_ns_0_36\n",
        "!wget -O weights/final_555_DeepFakeClassifier_tf_efficientnet_b7_ns_0_19 https://github.com/selimsef/dfdc_deepfake_challenge/releases/download/0.0.1/final_555_DeepFakeClassifier_tf_efficientnet_b7_ns_0_19\n",
        "!wget -O weights/final_777_DeepFakeClassifier_tf_efficientnet_b7_ns_0_29 https://github.com/selimsef/dfdc_deepfake_challenge/releases/download/0.0.1/final_777_DeepFakeClassifier_tf_efficientnet_b7_ns_0_29\n",
        "!wget -O weights/final_777_DeepFakeClassifier_tf_efficientnet_b7_ns_0_31 https://github.com/selimsef/dfdc_deepfake_challenge/releases/download/0.0.1/final_777_DeepFakeClassifier_tf_efficientnet_b7_ns_0_31\n",
        "!wget -O weights/final_888_DeepFakeClassifier_tf_efficientnet_b7_ns_0_37 https://github.com/selimsef/dfdc_deepfake_challenge/releases/download/0.0.1/final_888_DeepFakeClassifier_tf_efficientnet_b7_ns_0_37\n",
        "!wget -O weights/final_888_DeepFakeClassifier_tf_efficientnet_b7_ns_0_40 https://github.com/selimsef/dfdc_deepfake_challenge/releases/download/0.0.1/final_888_DeepFakeClassifier_tf_efficientnet_b7_ns_0_40\n",
        "!wget -O weights/final_999_DeepFakeClassifier_tf_efficientnet_b7_ns_0_23 https://github.com/selimsef/dfdc_deepfake_challenge/releases/download/0.0.1/final_999_DeepFakeClassifier_tf_efficientnet_b7_ns_0_23"
      ],
      "metadata": {
        "id": "EYuWBjFQd9r8"
      },
      "execution_count": null,
      "outputs": []
    },
    {
      "cell_type": "code",
      "source": [
        "!pip install timm facenet-pytorch"
      ],
      "metadata": {
        "id": "lI0fy7hxpZxL"
      },
      "execution_count": 2,
      "outputs": []
    },
    {
      "cell_type": "code",
      "source": [
        "import argparse\n",
        "import os\n",
        "import re\n",
        "import time\n",
        "\n",
        "import torch\n",
        "import pandas as pd\n",
        "from kernel_utils import VideoReader, FaceExtractor, confident_strategy, predict_on_video\n",
        "from training.zoo.classifiers import DeepFakeClassifier"
      ],
      "metadata": {
        "id": "fcFpK646khjm"
      },
      "execution_count": 3,
      "outputs": []
    },
    {
      "cell_type": "code",
      "source": [
        "models = [\n",
        "    \"final_111_DeepFakeClassifier_tf_efficientnet_b7_ns_0_36\",\n",
        "    \"final_555_DeepFakeClassifier_tf_efficientnet_b7_ns_0_19\",\n",
        "    \"final_777_DeepFakeClassifier_tf_efficientnet_b7_ns_0_29\",\n",
        "    \"final_777_DeepFakeClassifier_tf_efficientnet_b7_ns_0_31\",\n",
        "    \"final_888_DeepFakeClassifier_tf_efficientnet_b7_ns_0_37\",\n",
        "    \"final_888_DeepFakeClassifier_tf_efficientnet_b7_ns_0_40\",\n",
        "    \"final_999_DeepFakeClassifier_tf_efficientnet_b7_ns_0_23\"\n",
        "]\n",
        "weights_dir = \"weights\""
      ],
      "metadata": {
        "id": "HD2ACei3mQEZ"
      },
      "execution_count": 4,
      "outputs": []
    },
    {
      "cell_type": "code",
      "source": [
        "\n",
        "models_list = []\n",
        "model_paths = [os.path.join(weights_dir, model) for model in models]\n",
        "for path in model_paths:\n",
        "    model = DeepFakeClassifier(encoder=\"tf_efficientnet_b7_ns\").to(\"cuda\")\n",
        "    print(\"loading state dict {}\".format(path))\n",
        "    checkpoint = torch.load(path, map_location=\"cpu\")\n",
        "    state_dict = checkpoint.get(\"state_dict\", checkpoint)\n",
        "    model.load_state_dict({re.sub(\"^module.\", \"\", k): v for k, v in state_dict.items()}, strict=True)\n",
        "    model.eval()\n",
        "    del checkpoint\n",
        "    models_list.append(model.half())"
      ],
      "metadata": {
        "colab": {
          "base_uri": "https://localhost:8080/"
        },
        "id": "F-V7VfJLy3gu",
        "outputId": "dded7456-5617-4b39-d01f-c96d7cd5da43"
      },
      "execution_count": 5,
      "outputs": [
        {
          "output_type": "stream",
          "name": "stderr",
          "text": [
            "/content/dfdc_deepfake_challenge/training/zoo/classifiers.py:144: UserWarning: Mapping deprecated model name tf_efficientnet_b7_ns to current tf_efficientnet_b7.ns_jft_in1k.\n",
            "  self.encoder = encoder_params[encoder][\"init_op\"]()\n"
          ]
        },
        {
          "output_type": "stream",
          "name": "stdout",
          "text": [
            "loading state dict weights/final_111_DeepFakeClassifier_tf_efficientnet_b7_ns_0_36\n",
            "loading state dict weights/final_555_DeepFakeClassifier_tf_efficientnet_b7_ns_0_19\n",
            "loading state dict weights/final_777_DeepFakeClassifier_tf_efficientnet_b7_ns_0_29\n",
            "loading state dict weights/final_777_DeepFakeClassifier_tf_efficientnet_b7_ns_0_31\n",
            "loading state dict weights/final_888_DeepFakeClassifier_tf_efficientnet_b7_ns_0_37\n",
            "loading state dict weights/final_888_DeepFakeClassifier_tf_efficientnet_b7_ns_0_40\n",
            "loading state dict weights/final_999_DeepFakeClassifier_tf_efficientnet_b7_ns_0_23\n"
          ]
        }
      ]
    },
    {
      "cell_type": "code",
      "source": [
        "def predict_test_video(video_path=\"\"):\n",
        "    video_reader = VideoReader()\n",
        "    video_read_fn = lambda x: video_reader.read_frames(x, num_frames=32)\n",
        "    face_extractor = FaceExtractor(video_read_fn)\n",
        "    input_size = 380\n",
        "    strategy = confident_strategy\n",
        "    stime = time.time()\n",
        "\n",
        "    predictions = predict_on_video(face_extractor=face_extractor, input_size=input_size, models=models_list,\n",
        "                                       strategy=strategy, video_path=video_path, batch_size=32)\n",
        "    print(\"Elapsed:\", time.time() - stime)\n",
        "    return predictions"
      ],
      "metadata": {
        "id": "CTp-hwaEoISV"
      },
      "execution_count": 6,
      "outputs": []
    },
    {
      "cell_type": "code",
      "source": [
        "#0 - real\n",
        "#1 - fake\n",
        "#trained on log loss\n",
        "print(predict_test_video(\"../input.mp4\"))\n",
        "print(predict_test_video(\"../input(1).mp4\"))\n",
        "print(predict_test_video(\"../input(2).mp4\"))\n",
        "print(predict_test_video(\"../input(3).mp4\"))"
      ],
      "metadata": {
        "colab": {
          "base_uri": "https://localhost:8080/"
        },
        "id": "L6qGuoaYnfCD",
        "outputId": "720e455b-1406-4ec8-e7af-5ec683ae6e53"
      },
      "execution_count": 9,
      "outputs": [
        {
          "output_type": "stream",
          "name": "stdout",
          "text": [
            "Elapsed: 3.7595601081848145\n",
            "0.06152\n",
            "Elapsed: 7.5848612785339355\n",
            "0.989\n",
            "Elapsed: 7.476138591766357\n",
            "0.1813\n",
            "Elapsed: 6.9994590282440186\n",
            "0.9907\n"
          ]
        }
      ]
    },
    {
      "cell_type": "code",
      "source": [],
      "metadata": {
        "id": "zpoYBt8Ml0_O"
      },
      "execution_count": null,
      "outputs": []
    }
  ]
}
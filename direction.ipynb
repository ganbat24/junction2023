{
  "nbformat": 4,
  "nbformat_minor": 0,
  "metadata": {
    "colab": {
      "provenance": [],
      "gpuType": "T4"
    },
    "kernelspec": {
      "name": "python3",
      "display_name": "Python 3"
    },
    "language_info": {
      "name": "python"
    },
    "accelerator": "GPU"
  },
  "cells": [
    {
      "cell_type": "code",
      "source": [
        "!pip install sixdrepnet mediapipe"
      ],
      "metadata": {
        "id": "0xLsVUjQ9rRX"
      },
      "execution_count": null,
      "outputs": []
    },
    {
      "cell_type": "code",
      "source": [
        "import cv2\n",
        "from sixdrepnet import SixDRepNet\n",
        "import mediapipe as mp"
      ],
      "metadata": {
        "id": "ClJ5lBpm-hF0"
      },
      "execution_count": null,
      "outputs": []
    },
    {
      "cell_type": "code",
      "source": [
        "model = SixDRepNet()\n",
        "\n",
        "mp_drawing = mp.solutions.drawing_utils\n",
        "mp_drawing_styles = mp.solutions.drawing_styles\n",
        "\n",
        "my_drawing_specs = mp_drawing.DrawingSpec(color = (0, 255, 0), thickness = 1)\n",
        "mp_face_mesh = mp.solutions.face_mesh"
      ],
      "metadata": {
        "id": "rBedTNATCRB7",
        "colab": {
          "base_uri": "https://localhost:8080/"
        },
        "outputId": "bb3bab6a-0347-476a-9ac5-2fb0d49845b0"
      },
      "execution_count": null,
      "outputs": [
        {
          "output_type": "stream",
          "name": "stderr",
          "text": [
            "Downloading: \"https://cloud.ovgu.de/s/Q67RnLDy6JKLRWm/download/6DRepNet_300W_LP_AFLW2000.pth\" to /root/.cache/torch/hub/checkpoints/6DRepNet_300W_LP_AFLW2000.pth\n",
            "100%|██████████| 150M/150M [00:08<00:00, 19.4MB/s]\n"
          ]
        }
      ]
    },
    {
      "cell_type": "code",
      "source": [
        "input_video_path = 'input.mp4'\n",
        "output_video_path = 'output.mp4'"
      ],
      "metadata": {
        "id": "aVXax-1k_w7r"
      },
      "execution_count": null,
      "outputs": []
    },
    {
      "cell_type": "code",
      "source": [
        "def process_video(input_path, output_path):\n",
        "    cap = cv2.VideoCapture(input_path)\n",
        "\n",
        "    fps = int(cap.get(cv2.CAP_PROP_FPS))\n",
        "    width = int(cap.get(cv2.CAP_PROP_FRAME_WIDTH))\n",
        "    height = int(cap.get(cv2.CAP_PROP_FRAME_HEIGHT))\n",
        "\n",
        "    fourcc = cv2.VideoWriter_fourcc(*'mp4v')\n",
        "    out = cv2.VideoWriter(output_path, fourcc, fps, (width, height))\n",
        "\n",
        "    with mp_face_mesh.FaceMesh(\n",
        "            max_num_faces = 4,\n",
        "            refine_landmarks = True,\n",
        "            min_detection_confidence = 0.5,\n",
        "            min_tracking_confidence = 0.5\n",
        "        ) as face_mesh:\n",
        "\n",
        "        # Process each frame\n",
        "        while cap.isOpened():\n",
        "            ret, frame = cap.read()\n",
        "            if not ret:\n",
        "              break\n",
        "\n",
        "            pitch, yaw, roll = model.predict(frame)\n",
        "            results = face_mesh.process(frame)\n",
        "\n",
        "            for face_landmarks in results.multi_face_landmarks:\n",
        "                mp_drawing.draw_landmarks(\n",
        "                    image = frame,\n",
        "                    landmark_list = face_landmarks,\n",
        "                    connections = mp_face_mesh.FACEMESH_TESSELATION,\n",
        "                    landmark_drawing_spec = None,\n",
        "                    connection_drawing_spec = mp_drawing_styles\n",
        "                    .get_default_face_mesh_tesselation_style()\n",
        "                )\n",
        "\n",
        "                mp_drawing.draw_landmarks(\n",
        "                    image = frame,\n",
        "                    landmark_list = face_landmarks,\n",
        "                    connections = mp_face_mesh.FACEMESH_CONTOURS,\n",
        "                    landmark_drawing_spec = None,\n",
        "                    connection_drawing_spec = my_drawing_specs\n",
        "                )\n",
        "\n",
        "\n",
        "            model.draw_axis(frame, yaw, pitch, roll)\n",
        "\n",
        "            out.write(frame)\n",
        "    cap.release()\n",
        "    out.release()\n",
        "    cv2.destroyAllWindows()"
      ],
      "metadata": {
        "id": "FlsMX_kA_JSx"
      },
      "execution_count": null,
      "outputs": []
    },
    {
      "cell_type": "code",
      "source": [
        "process_video(input_video_path, output_video_path)"
      ],
      "metadata": {
        "id": "3_VBV2BO_yXe"
      },
      "execution_count": null,
      "outputs": []
    }
  ]
}